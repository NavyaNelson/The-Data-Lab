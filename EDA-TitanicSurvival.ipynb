{
 "cells": [
  {
   "cell_type": "code",
   "execution_count": null,
   "id": "bc971366-b66a-4073-90b6-ca055a9e446b",
   "metadata": {},
   "outputs": [],
   "source": [
    "import pandas as pd\n",
    "import numpy as np\n",
    "import matplotlib.pyplot as plt\n",
    "import seaborn as sns"
   ]
  },
  {
   "cell_type": "code",
   "execution_count": null,
   "id": "0b9f0d10-795d-4adc-8a19-06adf3bdd39b",
   "metadata": {},
   "outputs": [],
   "source": [
    "dataset = pd.read_csv(r\"titanic.csv\")"
   ]
  },
  {
   "cell_type": "code",
   "execution_count": null,
   "id": "442e6cca-4bf6-4849-9e03-1dc98c241998",
   "metadata": {
    "scrolled": true
   },
   "outputs": [],
   "source": [
    "dataset.head(10)"
   ]
  },
  {
   "cell_type": "code",
   "execution_count": null,
   "id": "42f2a4db-5d03-4b11-a5ff-d28c0287bad7",
   "metadata": {},
   "outputs": [],
   "source": [
    "dataset.info()"
   ]
  },
  {
   "cell_type": "code",
   "execution_count": null,
   "id": "6c72f928-e647-499d-9c4b-be8f87c8e5e2",
   "metadata": {},
   "outputs": [],
   "source": [
    "dataset.describe()"
   ]
  },
  {
   "cell_type": "code",
   "execution_count": null,
   "id": "e32671a8-14dd-418f-b0b1-9b3f47dc2d2c",
   "metadata": {},
   "outputs": [],
   "source": [
    "#check for missing values in the datset\n",
    "dataset.isnull().sum()"
   ]
  },
  {
   "cell_type": "code",
   "execution_count": null,
   "id": "0250baa5-6893-47c9-871c-7eb3b6432ddc",
   "metadata": {},
   "outputs": [],
   "source": [
    "dataset=dataset.fillna({'Age':dataset['Age'].median(),'Fare':dataset['Fare'].median()})"
   ]
  },
  {
   "cell_type": "code",
   "execution_count": null,
   "id": "b2cc2111-3fce-4b28-be32-459bbb90c8bc",
   "metadata": {},
   "outputs": [],
   "source": [
    "#recheck if missing values are filled or not\n",
    "dataset.isnull().sum()"
   ]
  },
  {
   "cell_type": "code",
   "execution_count": null,
   "id": "13cb92de-8be4-42a9-8b58-797bb5c2edbf",
   "metadata": {},
   "outputs": [],
   "source": [
    "#As the age is in float, now we are changing datatype into int\n",
    "dataset['Age']=dataset['Age'].astype(int)"
   ]
  },
  {
   "cell_type": "code",
   "execution_count": null,
   "id": "4ad8c3e2-c250-482b-9fcf-1e47bf677c81",
   "metadata": {},
   "outputs": [],
   "source": [
    "#Visualization:Histogram\n",
    "#Age Distribution\n",
    "\n",
    "dataset['Age'].hist(bins=20)\n",
    "plt.title(\"Age Distribution\")\n",
    "plt.xlabel(\"Value\")\n",
    "plt.ylabel(\"Frequency\")\n",
    "plt.show()\n",
    "#Fare Distribution\n",
    "dataset['Fare'].hist(bins=20)\n",
    "plt.title(\"Fare Distribution\")\n",
    "plt.xlabel(\"Value\")\n",
    "plt.ylabel(\"Frequency\")\n",
    "plt.show()"
   ]
  },
  {
   "cell_type": "code",
   "execution_count": null,
   "id": "e52367e6-4bc0-4d67-b3ad-42c6a570672a",
   "metadata": {},
   "outputs": [],
   "source": [
    "#Survived Distribution\n",
    "sns.countplot(x='Survived',data=dataset)\n",
    "plt.title(\"Survival Distribution\")\n",
    "plt.xlabel(\"Survived (0 = No, 1= Yes)\")\n",
    "plt.ylabel(\"Count\")\n",
    "plt.show()"
   ]
  },
  {
   "cell_type": "code",
   "execution_count": null,
   "id": "e58e7efb-8719-42e1-bbc3-ec4ba62378a3",
   "metadata": {},
   "outputs": [],
   "source": [
    "#Survived Vs Age \n",
    "sns.boxplot(x=\"Survived\",y=\"Age\",data=dataset)\n",
    "plt.title(\"Age Vs Survived\")\n",
    "plt.xlabel(\"Survived (0=No,1=Yes)\")\n",
    "plt.ylabel(\"Age\")\n",
    "plt.show()"
   ]
  },
  {
   "cell_type": "code",
   "execution_count": null,
   "id": "9f1902fb-d534-42a7-8d8c-585570966da8",
   "metadata": {},
   "outputs": [],
   "source": [
    "#Sex Vs Survival\n",
    "sns.countplot(x='Survived', hue='Sex', data=dataset)\n",
    "plt.title('Survival by Sex')\n",
    "plt.xlabel('Survived (0 = No, 1 = Yes)')\n",
    "plt.ylabel('Count')\n",
    "plt.show()\n"
   ]
  },
  {
   "cell_type": "code",
   "execution_count": null,
   "id": "3fc6fdf7-22f2-4eb3-a399-4496f73ba3dc",
   "metadata": {},
   "outputs": [],
   "source": [
    "#Pclass Vs Survival\n",
    "sns.countplot(x='Survived', hue='Pclass', data=dataset)\n",
    "plt.title('Survival by Passenger Class')\n",
    "plt.xlabel('Survived (0 = No, 1 = Yes)')\n",
    "plt.ylabel('Count')\n",
    "plt.show()\n"
   ]
  },
  {
   "cell_type": "code",
   "execution_count": null,
   "id": "07e78d6b-0755-48c9-aed3-32805a6ba0d3",
   "metadata": {},
   "outputs": [],
   "source": [
    "#Embarked vs. Survival\n",
    "sns.countplot(x='Survived', hue='Embarked', data=dataset)\n",
    "plt.title('Survival by Embarked Port')\n",
    "plt.xlabel('Survived (0 = No, 1 = Yes)')\n",
    "plt.ylabel('Count')\n",
    "plt.show()\n"
   ]
  },
  {
   "cell_type": "code",
   "execution_count": null,
   "id": "34dedb08-3189-4414-bde6-bd690426f8ae",
   "metadata": {},
   "outputs": [],
   "source": [
    "#Corelation Matrix\n",
    "numeric_data = dataset.select_dtypes(include='number')\n",
    "Cor_matrix =numeric_data.corr()\n",
    "print(Cor_matrix)\n",
    "\n",
    "plt.figure(figsize=(10,8))\n",
    "sns.heatmap(Cor_matrix,annot=True,cmap='coolwarm',vmin=-1,vmax=1)"
   ]
  },
  {
   "cell_type": "code",
   "execution_count": null,
   "id": "3a2686c1-b584-4ee1-8a52-93e828f91d91",
   "metadata": {},
   "outputs": [],
   "source": [
    "#Creating Age Group Column\n",
    "dataset['Age_Group'] = pd.cut(dataset['Age'], bins=[0, 12, 18, 60, 100], labels=['Child', 'Teen', 'Adult', 'Senior'])"
   ]
  },
  {
   "cell_type": "code",
   "execution_count": null,
   "id": "6146f5d2-d479-4306-97e7-b4d6d656d78a",
   "metadata": {},
   "outputs": [],
   "source": [
    "#AgeGroup Distribution\n",
    "dataset['Age_Group'].value_counts().plot(kind='bar')\n",
    "plt.title(\"Age Group Distribution\")\n",
    "plt.xlabel(\"Age Group\")\n",
    "plt.ylabel(\"Count\")\n",
    "plt.show()\n"
   ]
  },
  {
   "cell_type": "code",
   "execution_count": null,
   "id": "ca0256be-b599-40bf-b81a-79dea2b94807",
   "metadata": {},
   "outputs": [],
   "source": [
    "#Combine AgeGroup with Gender\n",
    "sns.countplot(data=dataset, x='Age_Group', hue='Sex')\n",
    "plt.title(\"Age Group by Gender\")\n",
    "plt.xlabel(\"Age Group\")\n",
    "plt.ylabel(\"Count\")\n",
    "plt.show()\n"
   ]
  },
  {
   "cell_type": "code",
   "execution_count": null,
   "id": "8f57e5bd-2628-4dd1-a67f-152f7644799b",
   "metadata": {},
   "outputs": [],
   "source": [
    "#Group By Sex & Survival Rate\n",
    "dataset.groupby('Sex')['Survived'].mean()\n"
   ]
  },
  {
   "cell_type": "code",
   "execution_count": null,
   "id": "f0b1264b-c591-4006-b20c-b43b981f20d4",
   "metadata": {},
   "outputs": [],
   "source": [
    "#Group By AgeGroups & Survival Rate\n",
    "dataset.groupby('Age_Group')['Survived'].mean()\n"
   ]
  },
  {
   "cell_type": "code",
   "execution_count": null,
   "id": "db894fa5-3536-4358-bc83-38e3dc80c0c0",
   "metadata": {},
   "outputs": [],
   "source": [
    "#survival Rate by AgeGroup\n",
    "sns.barplot(data=dataset, x='Age_Group', y='Survived')\n",
    "plt.title(\"Survival Rate by Age Group\")\n",
    "plt.ylabel(\"Survival Rate\")\n",
    "plt.show()\n"
   ]
  },
  {
   "cell_type": "code",
   "execution_count": null,
   "id": "7cfd7d67-e5bb-4fee-97fa-f1be2cb03126",
   "metadata": {},
   "outputs": [],
   "source": [
    "# Overall survival rate\n",
    "survival_rate = dataset['Survived'].mean() * 100\n",
    "\n",
    "plt.figure(figsize=(6,6))\n",
    "sns.countplot(x='Survived', data=dataset)\n",
    "plt.title(f\"Overall Survival Rate: {survival_rate:.2f}%\")\n",
    "plt.xlabel(\"Survived (0 = No, 1 = Yes)\")\n",
    "plt.ylabel(\"Count\")\n",
    "plt.show()\n"
   ]
  },
  {
   "cell_type": "code",
   "execution_count": null,
   "id": "402e9edf-8f9e-4329-8914-8c705d14b605",
   "metadata": {},
   "outputs": [],
   "source": []
  }
 ],
 "metadata": {
  "kernelspec": {
   "display_name": "Python 3 (ipykernel)",
   "language": "python",
   "name": "python3"
  },
  "language_info": {
   "codemirror_mode": {
    "name": "ipython",
    "version": 3
   },
   "file_extension": ".py",
   "mimetype": "text/x-python",
   "name": "python",
   "nbconvert_exporter": "python",
   "pygments_lexer": "ipython3",
   "version": "3.12.5"
  }
 },
 "nbformat": 4,
 "nbformat_minor": 5
}
